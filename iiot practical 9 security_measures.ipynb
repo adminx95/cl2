{
 "cells": [
  {
   "cell_type": "code",
   "execution_count": 1,
   "id": "53a5fcb0-bce9-4c07-9de1-b1fad7d9e3d3",
   "metadata": {},
   "outputs": [
    {
     "name": "stdout",
     "output_type": "stream",
     "text": [
      "Defaulting to user installation because normal site-packages is not writeable\n",
      "Requirement already satisfied: cryptography in c:\\programdata\\anaconda3\\lib\\site-packages (42.0.2)\n",
      "Requirement already satisfied: cffi>=1.12 in c:\\programdata\\anaconda3\\lib\\site-packages (from cryptography) (1.16.0)\n",
      "Requirement already satisfied: pycparser in c:\\programdata\\anaconda3\\lib\\site-packages (from cffi>=1.12->cryptography) (2.21)\n",
      "Note: you may need to restart the kernel to use updated packages.\n"
     ]
    }
   ],
   "source": [
    "pip install cryptography"
   ]
  },
  {
   "cell_type": "code",
   "execution_count": 2,
   "id": "d660c15b-c90a-49bc-a742-0c931c709eb7",
   "metadata": {},
   "outputs": [],
   "source": [
    "import hashlib  # For hashing to ensure data integrity\n",
    "from cryptography.fernet import Fernet  # For encryption\n",
    "import random  # For simulating sensor data\n",
    "import numpy as np"
   ]
  },
  {
   "cell_type": "code",
   "execution_count": 3,
   "id": "0c6f5757-6335-481e-8b4c-9e87fc86d956",
   "metadata": {},
   "outputs": [],
   "source": [
    "    # Import necessary libraries\n",
    "import hashlib  # For hashing to ensure data integrity\n",
    "from cryptography.fernet import Fernet  # For encryption\n",
    "import random  # For simulating sensor data"
   ]
  },
  {
   "cell_type": "code",
   "execution_count": 4,
   "id": "35159ae1-f19f-46cc-ba41-b2152a46dec0",
   "metadata": {},
   "outputs": [],
   "source": [
    "# Generate an encryption key\n",
    "key = Fernet.generate_key()\n",
    "cipher = Fernet(key)"
   ]
  },
  {
   "cell_type": "code",
   "execution_count": 5,
   "id": "4c014f82-baad-4e60-aaf3-58b733c8fc61",
   "metadata": {},
   "outputs": [],
   "source": [
    "\n",
    "def get_sensor_data():\n",
    "    return random.uniform(50, 100)  # Random temperature between 50°C and 100°C\n",
    "\n",
    "# Encrypt the sensor data\n",
    "def encrypt_data(data, cipher):\n",
    "    return cipher.encrypt(data.encode())\n",
    "\n",
    "    # Decrypt the sensor data\n",
    "def decrypt_data(encrypted_data, cipher):\n",
    "    return cipher.decrypt(encrypted_data).decode()\n",
    "\n",
    "    # Verify data integrity using hashing\n",
    "def verify_data_integrity(data):\n",
    "    return hashlib.sha256(data.encode()).hexdigest()"
   ]
  },
  {
   "cell_type": "code",
   "execution_count": 6,
   "id": "763893ef-b043-45a5-81e3-edbcf13cb606",
   "metadata": {},
   "outputs": [
    {
     "name": "stdout",
     "output_type": "stream",
     "text": [
      "Original Data: Temperature: 77.66°C\n",
      "Encrypted Data: b'gAAAAABnK0CXslDHItNc_1Vaxt8ajEgeV_wtLWHa0ecB3rmc_wWr6hJgVamHlDRrDygM45Wi0ZPieSpPYN2fl7uNxZnbRXs0Ke1hfpDKM5dShDR9-zgH2iw='\n",
      "Decrypted Data: Temperature: 77.66°C\n"
     ]
    }
   ],
   "source": [
    "sensor_data = f\"Temperature: {get_sensor_data():.2f}°C\"\n",
    "print(\"Original Data:\", sensor_data)\n",
    "\n",
    "    # Encrypt and then decrypt the data\n",
    "encrypted_data = encrypt_data(sensor_data, cipher)\n",
    "print(\"Encrypted Data:\", encrypted_data)\n",
    "\n",
    "decrypted_data = decrypt_data(encrypted_data, cipher)\n",
    "print(\"Decrypted Data:\", decrypted_data)"
   ]
  },
  {
   "cell_type": "code",
   "execution_count": 7,
   "id": "1c8406ae-04fe-4cf4-9e94-f3c6f7533042",
   "metadata": {},
   "outputs": [],
   "source": [
    "#Original Data: Temperature: 87.62°C\n",
    "#Encrypted Data: b'gAAAAABnFhh2OvOIv0OVP3ooVF3y32p6lGGlqgOKile2LcdsHuaPiS-bwEwSeW-6FHPwUFFjxtM1EGXWgFqxex7iCNCCub-NFr7kVTTIoRN-6wPqLwI4wGo='\n",
    "#Decrypted Data: Temperature: 87.62°C"
   ]
  },
  {
   "cell_type": "code",
   "execution_count": 8,
   "id": "75fbd2e7-1533-4042-b0ce-c9410e7a4d4d",
   "metadata": {},
   "outputs": [
    {
     "name": "stdout",
     "output_type": "stream",
     "text": [
      "Data Integrity Verified: Hashes match.\n"
     ]
    }
   ],
   "source": [
    "original_hash = verify_data_integrity(sensor_data)\n",
    "decrypted_hash = verify_data_integrity(decrypted_data)\n",
    "if original_hash == decrypted_hash:\n",
    "    print(\"Data Integrity Verified: Hashes match.\")\n",
    "else:\n",
    "    print(\"Data Integrity Issue: Hashes do not match.\")\n",
    "\n",
    "#Data Integrity Verified: Hashes match.\n"
   ]
  },
  {
   "cell_type": "code",
   "execution_count": null,
   "id": "6b05aa98-69a4-4c1b-9377-16c0f329c155",
   "metadata": {},
   "outputs": [],
   "source": []
  }
 ],
 "metadata": {
  "kernelspec": {
   "display_name": "Python 3 (ipykernel)",
   "language": "python",
   "name": "python3"
  },
  "language_info": {
   "codemirror_mode": {
    "name": "ipython",
    "version": 3
   },
   "file_extension": ".py",
   "mimetype": "text/x-python",
   "name": "python",
   "nbconvert_exporter": "python",
   "pygments_lexer": "ipython3",
   "version": "3.12.1"
  }
 },
 "nbformat": 4,
 "nbformat_minor": 5
}
