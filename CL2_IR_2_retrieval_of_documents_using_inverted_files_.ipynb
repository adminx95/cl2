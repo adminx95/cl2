{
 "cells": [
  {
   "cell_type": "code",
   "execution_count": 1,
   "id": "6404fd22-3b91-4ba2-9b87-f38e12ae6ded",
   "metadata": {
    "id": "6404fd22-3b91-4ba2-9b87-f38e12ae6ded"
   },
   "outputs": [],
   "source": [
    "# In[1]\n",
    "from collections import defaultdict"
   ]
  },
  {
   "cell_type": "code",
   "execution_count": 2,
   "id": "720492b1-ed13-46e3-95ba-98e1c10f5b9c",
   "metadata": {
    "id": "720492b1-ed13-46e3-95ba-98e1c10f5b9c"
   },
   "outputs": [],
   "source": [
    "# Sample documents with fruit names\n",
    "documents = {\n",
    "    1: \"Apple Banana Mango\",\n",
    "    2: \"Banana Orange\",\n",
    "    3: \"Apple Grapes\",\n",
    "    4: \"Mango Orange Banana\",\n",
    "    5: \"Grapes Banana\"\n",
    "}"
   ]
  },
  {
   "cell_type": "code",
   "execution_count": 3,
   "id": "66b3a359-e943-4596-b34e-8836222944be",
   "metadata": {
    "id": "66b3a359-e943-4596-b34e-8836222944be"
   },
   "outputs": [],
   "source": [
    "# In[2]\n",
    "# Function to create an inverted index\n",
    "def create_inverted_index(documents):\n",
    "    inverted_index = defaultdict(set)\n",
    "\n",
    "    for doc_id, text in documents.items():\n",
    "        words = text.lower().split()\n",
    "        for word in words:\n",
    "            inverted_index[word].add(doc_id)\n",
    "\n",
    "    return inverted_index"
   ]
  },
  {
   "cell_type": "code",
   "execution_count": 4,
   "id": "6df4ccc5-a136-4b4a-adec-387841e48c33",
   "metadata": {
    "id": "6df4ccc5-a136-4b4a-adec-387841e48c33"
   },
   "outputs": [],
   "source": [
    "# Create the inverted index\n",
    "inverted_index = create_inverted_index(documents)"
   ]
  },
  {
   "cell_type": "code",
   "execution_count": 5,
   "id": "7336df23-fcce-4821-bb67-24fd41a901f1",
   "metadata": {
    "id": "7336df23-fcce-4821-bb67-24fd41a901f1"
   },
   "outputs": [],
   "source": [
    "# Convert sets to sorted lists for a dictionary file representation\n",
    "inverted_index_dict = {term: sorted(list(doc_ids)) for term, doc_ids in inverted_index.items()}"
   ]
  },
  {
   "cell_type": "code",
   "execution_count": 6,
   "id": "56a78635-9443-4632-8ab7-8255702cfaa3",
   "metadata": {
    "colab": {
     "base_uri": "https://localhost:8080/"
    },
    "id": "56a78635-9443-4632-8ab7-8255702cfaa3",
    "outputId": "d8b56ee8-104e-4c69-be7d-9e43fe177766"
   },
   "outputs": [
    {
     "name": "stdout",
     "output_type": "stream",
     "text": [
      "Inverted Index:\n",
      "apple: {1, 3}\n",
      "banana: {1, 2, 4, 5}\n",
      "mango: {1, 4}\n",
      "orange: {2, 4}\n",
      "grapes: {3, 5}\n"
     ]
    }
   ],
   "source": [
    "# Display the inverted index\n",
    "print(\"Inverted Index:\")\n",
    "for term, doc_ids in inverted_index.items():\n",
    "    print(f\"{term}: {doc_ids}\")"
   ]
  },
  {
   "cell_type": "code",
   "execution_count": 7,
   "id": "fafab4e8-61d4-4477-9e8b-7436f2345381",
   "metadata": {
    "colab": {
     "base_uri": "https://localhost:8080/"
    },
    "id": "fafab4e8-61d4-4477-9e8b-7436f2345381",
    "outputId": "9d4e1b58-222d-46c8-a24b-db7041549aed"
   },
   "outputs": [
    {
     "name": "stdout",
     "output_type": "stream",
     "text": [
      "\n",
      "Dictionary File:\n",
      "apple: [1, 3]\n",
      "banana: [1, 2, 4, 5]\n",
      "mango: [1, 4]\n",
      "orange: [2, 4]\n",
      "grapes: [3, 5]\n"
     ]
    }
   ],
   "source": [
    "# Display the dictionary file format\n",
    "print(\"\\nDictionary File:\")\n",
    "for term, doc_ids in inverted_index_dict.items():\n",
    "    print(f\"{term}: {doc_ids}\")"
   ]
  },
  {
   "cell_type": "code",
   "execution_count": 8,
   "id": "a2afa32a-e7ec-43ab-a239-1af338419543",
   "metadata": {
    "id": "a2afa32a-e7ec-43ab-a239-1af338419543"
   },
   "outputs": [],
   "source": [
    "# In[3]\n",
    "# Function to query the inverted index\n",
    "def query_inverted_index(query, inverted_index):\n",
    "    query_words = query.lower().split()\n",
    "\n",
    "    if not query_words:\n",
    "        return set()\n",
    "\n",
    "    # Get the set of documents for the first query word\n",
    "    result_docs = inverted_index.get(query_words[0], set()).copy()\n",
    "\n",
    "    # Intersect with the document sets for the other query words\n",
    "    for word in query_words[1:]:\n",
    "        result_docs &= inverted_index.get(word, set())\n",
    "\n",
    "    return result_docs"
   ]
  },
  {
   "cell_type": "code",
   "execution_count": 9,
   "id": "bf0e864f-ef10-4960-8557-983971ddaa4f",
   "metadata": {
    "colab": {
     "base_uri": "https://localhost:8080/"
    },
    "id": "bf0e864f-ef10-4960-8557-983971ddaa4f",
    "outputId": "3af8f5f3-fff6-4ff3-a495-c99c676234ed"
   },
   "outputs": [
    {
     "name": "stdout",
     "output_type": "stream",
     "text": [
      "Query: 'apple banana' -> Documents: {1}\n",
      "Query: 'grapes banana' -> Documents: {5}\n",
      "Query: 'banana orange' -> Documents: {2, 4}\n",
      "Query: 'nonexistent fruit' -> Documents: set()\n"
     ]
    }
   ],
   "source": [
    "# In[4]\n",
    "# Sample queries\n",
    "queries = [\n",
    "    \"apple banana\",\n",
    "    \"grapes banana\",\n",
    "    \"banana orange\",\n",
    "    \"nonexistent fruit\"\n",
    "]\n",
    "\n",
    "for query in queries:\n",
    "    result_docs = query_inverted_index(query, inverted_index)\n",
    "    print(f\"Query: '{query}' -> Documents: {result_docs}\")"
   ]
  },
  {
   "cell_type": "code",
   "execution_count": null,
   "id": "f891beaa-dcd5-4521-abe5-cdd243e03634",
   "metadata": {
    "id": "f891beaa-dcd5-4521-abe5-cdd243e03634"
   },
   "outputs": [],
   "source": []
  }
 ],
 "metadata": {
  "colab": {
   "provenance": []
  },
  "kernelspec": {
   "display_name": "Python 3 (ipykernel)",
   "language": "python",
   "name": "python3"
  },
  "language_info": {
   "codemirror_mode": {
    "name": "ipython",
    "version": 3
   },
   "file_extension": ".py",
   "mimetype": "text/x-python",
   "name": "python",
   "nbconvert_exporter": "python",
   "pygments_lexer": "ipython3",
   "version": "3.12.1"
  }
 },
 "nbformat": 4,
 "nbformat_minor": 5
}
