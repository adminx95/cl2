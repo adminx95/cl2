{
 "cells": [
  {
   "cell_type": "code",
   "execution_count": 1,
   "id": "09118297-6f17-4d75-942a-92148786e43b",
   "metadata": {},
   "outputs": [],
   "source": [
    "import nltk\n",
    "from nltk import word_tokenize, sent_tokenize\n",
    "from nltk.corpus import stopwords\n",
    "from nltk.stem import SnowballStemmer\n",
    "from nltk.stem import WordNetLemmatizer"
   ]
  },
  {
   "cell_type": "code",
   "execution_count": 2,
   "id": "193ae417-6528-4645-8448-0223fc209e43",
   "metadata": {},
   "outputs": [
    {
     "name": "stderr",
     "output_type": "stream",
     "text": [
      "[nltk_data] Downloading package punkt to\n",
      "[nltk_data]     C:\\Users\\HP\\AppData\\Roaming\\nltk_data...\n",
      "[nltk_data]   Package punkt is already up-to-date!\n",
      "[nltk_data] Downloading package stopwords to\n",
      "[nltk_data]     C:\\Users\\HP\\AppData\\Roaming\\nltk_data...\n",
      "[nltk_data]   Package stopwords is already up-to-date!\n"
     ]
    },
    {
     "data": {
      "text/plain": [
       "True"
      ]
     },
     "execution_count": 2,
     "metadata": {},
     "output_type": "execute_result"
    }
   ],
   "source": [
    "nltk.download('punkt')\n",
    "nltk.download('stopwords')"
   ]
  },
  {
   "cell_type": "code",
   "execution_count": 3,
   "id": "1fc84b39-0022-4cc7-81c9-f52d1cccffb3",
   "metadata": {},
   "outputs": [],
   "source": [
    "text = \"\"\"\n",
    "Natural language processing (NLP) is a subfield of linguistics, computer science, and artificial intelligence concerned with the interactions between computers and human language, in particular how to program computers to process and analyze large amounts of natural language data.\n",
    "\"\"\""
   ]
  },
  {
   "cell_type": "code",
   "execution_count": 4,
   "id": "a8439976-7f71-4746-901a-2365ab18da6b",
   "metadata": {},
   "outputs": [
    {
     "name": "stdout",
     "output_type": "stream",
     "text": [
      "['Natural', 'language', 'processing', '(', 'NLP', ')', 'is', 'a', 'subfield', 'of', 'linguistics', ',', 'computer', 'science', ',', 'and', 'artificial', 'intelligence', 'concerned', 'with', 'the', 'interactions', 'between', 'computers', 'and', 'human', 'language', ',', 'in', 'particular', 'how', 'to', 'program', 'computers', 'to', 'process', 'and', 'analyze', 'large', 'amounts', 'of', 'natural', 'language', 'data', '.']\n"
     ]
    },
    {
     "name": "stderr",
     "output_type": "stream",
     "text": [
      "[nltk_data] Downloading package punkt to\n",
      "[nltk_data]     C:\\Users\\HP\\AppData\\Roaming\\nltk_data...\n",
      "[nltk_data]   Package punkt is already up-to-date!\n"
     ]
    }
   ],
   "source": [
    "#Tokenization\n",
    "nltk.download('punkt')\n",
    "tokenized_words = word_tokenize(text)\n",
    "tokenized_sentences = sent_tokenize(text)\n",
    "print(tokenized_words)\n",
    "#print(tokenized_sentences)"
   ]
  },
  {
   "cell_type": "code",
   "execution_count": 6,
   "id": "aabd4237-e6b0-4155-a07a-351368c7639c",
   "metadata": {},
   "outputs": [
    {
     "name": "stdout",
     "output_type": "stream",
     "text": [
      "Text after Stopword Removal:\n",
      "['Natural', 'language', 'processing', '(', 'NLP', ')', 'subfield', 'linguistics', ',', 'computer', 'science', ',', 'artificial', 'intelligence', 'concerned', 'interactions', 'computers', 'human', 'language', ',', 'particular', 'program', 'computers', 'process', 'analyze', 'large', 'amounts', 'natural', 'language', 'data', '.']\n",
      "\n"
     ]
    }
   ],
   "source": [
    "# Remove stopwords\n",
    "stop_words = set(stopwords.words('english'))\n",
    "tokens=word_tokenize(text)\n",
    "filtered_tokens = [word for word in tokens if word not in stop_words]\n",
    "print(\"Text after Stopword Removal:\")\n",
    "print(filtered_tokens)\n",
    "print()  # Empty line for separation"
   ]
  },
  {
   "cell_type": "code",
   "execution_count": 40,
   "id": "9b39333b-2ed5-4e5c-8c97-456739ffe7fe",
   "metadata": {},
   "outputs": [
    {
     "name": "stdout",
     "output_type": "stream",
     "text": [
      "['natur', 'languag', 'process', '(', 'nlp', ')', 'is', 'a', 'subfield', 'of', 'linguist', ',', 'comput', 'scienc', ',', 'and', 'artifici', 'intellig', 'concern', 'with', 'the', 'interact', 'between', 'comput', 'and', 'human', 'languag', ',', 'in', 'particular', 'how', 'to', 'program', 'comput', 'to', 'process', 'and', 'analyz', 'larg', 'amount', 'of', 'natur', 'languag', 'data', '.']\n"
     ]
    }
   ],
   "source": [
    "#Stemming\n",
    "snowball_stemmer = SnowballStemmer('english')\n",
    "stemmed_words = []\n",
    "for i in tokenized_words:\n",
    "    stemmed = snowball_stemmer.stem(i)\n",
    "    stemmed_words.append(stemmed)\n",
    "print(stemmed_words)"
   ]
  },
  {
   "cell_type": "code",
   "execution_count": 34,
   "id": "318190f3-d5e4-4b22-bf20-5136a3fb3e63",
   "metadata": {},
   "outputs": [
    {
     "name": "stdout",
     "output_type": "stream",
     "text": [
      "['Natural', 'language', 'processing', '(', 'NLP', ')', 'is', 'a', 'subfield', 'of', 'linguistics', ',', 'computer', 'science', ',', 'and', 'artificial', 'intelligence', 'concerned', 'with', 'the', 'interaction', 'between', 'computer', 'and', 'human', 'language', ',', 'in', 'particular', 'how', 'to', 'program', 'computer', 'to', 'process', 'and', 'analyze', 'large', 'amount', 'of', 'natural', 'language', 'data', '.']\n"
     ]
    },
    {
     "name": "stderr",
     "output_type": "stream",
     "text": [
      "[nltk_data] Downloading package wordnet to /home/pl1/nltk_data...\n",
      "[nltk_data]   Package wordnet is already up-to-date!\n"
     ]
    }
   ],
   "source": [
    "#Lemmatization\n",
    "nltk.download('wordnet')\n",
    "wordnet_lemmatizer = WordNetLemmatizer()\n",
    "lemmatized_words = []\n",
    "for i in tokenized_words:\n",
    "    lemmatized = wordnet_lemmatizer.lemmatize(i)\n",
    "    lemmatized_words.append(lemmatized)\n",
    "print(lemmatized_words)"
   ]
  },
  {
   "cell_type": "code",
   "execution_count": 41,
   "id": "296e3efe-e4a4-4406-adf8-c10cef10062c",
   "metadata": {},
   "outputs": [
    {
     "name": "stdout",
     "output_type": "stream",
     "text": [
      "Reconstructed Text:\n",
      "Natural language processing ( NLP ) is a subfield of linguistics , computer science , and artificial intelligence concerned with the interaction between computer and human language , in particular how to program computer to process and analyze large amount of natural language data .\n"
     ]
    }
   ],
   "source": [
    "# Reconstruct the text from stemmed tokens\n",
    "reconstructed_text = ' '.join(lemmatized_words)\n",
    "print(\"Reconstructed Text:\")\n",
    "print(reconstructed_text)"
   ]
  }
 ],
 "metadata": {
  "kernelspec": {
   "display_name": "Python 3 (ipykernel)",
   "language": "python",
   "name": "python3"
  },
  "language_info": {
   "codemirror_mode": {
    "name": "ipython",
    "version": 3
   },
   "file_extension": ".py",
   "mimetype": "text/x-python",
   "name": "python",
   "nbconvert_exporter": "python",
   "pygments_lexer": "ipython3",
   "version": "3.12.1"
  }
 },
 "nbformat": 4,
 "nbformat_minor": 5
}
